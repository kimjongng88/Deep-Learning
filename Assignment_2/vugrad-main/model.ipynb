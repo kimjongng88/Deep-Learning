{
 "cells": [
  {
   "cell_type": "markdown",
   "metadata": {},
   "source": [
    "Assignment 2\n",
    "\n",
    "PART 2\n"
   ]
  },
  {
   "cell_type": "code",
   "execution_count": 1,
   "metadata": {},
   "outputs": [],
   "source": [
    "import numpy as np\n",
    "import vugrad as vg\n",
    "import matplotlib.pyplot as plt"
   ]
  },
  {
   "cell_type": "code",
   "execution_count": 9,
   "metadata": {},
   "outputs": [
    {
     "name": "stdout",
     "output_type": "stream",
     "text": [
      "[[-0.57691621 -2.69077316]\n",
      " [ 1.4389507   2.06005097]] value\n",
      "<vugrad.core.OpNode object at 0x1243c36a0> c.source\n",
      "[[-0.60354064 -0.03524341]\n",
      " [ 0.54082582  1.09016263]] [0] value\n",
      "[[0. 0.]\n",
      " [0. 0.]] grad\n"
     ]
    }
   ],
   "source": [
    "x = vg.TensorNode(np.random.randn(2, 2))\n",
    "\n",
    "a = vg.TensorNode(np.random.randn(2, 2))\n",
    "b = vg.TensorNode(np.random.randn(2, 2))\n",
    "\n",
    "c = a + b\n",
    "\n",
    "print(c.value,\"value\")\n",
    "print(c.source,\"c.source\")\n",
    "print(c.source.inputs[0].value,\"[0] value\")\n",
    "print(a.grad, \"grad\")"
   ]
  },
  {
   "cell_type": "code",
   "execution_count": null,
   "metadata": {},
   "outputs": [],
   "source": []
  },
  {
   "cell_type": "code",
   "execution_count": null,
   "metadata": {},
   "outputs": [],
   "source": []
  }
 ],
 "metadata": {
  "kernelspec": {
   "display_name": "Python 3.9.7 64-bit ('base': conda)",
   "name": "python397jvsc74a57bd0004ae572cbee2f19c3ad42dc1768594b6be6b1139ad0a9774b2eb1d66ccdb2a5"
  },
  "language_info": {
   "codemirror_mode": {
    "name": "ipython",
    "version": 3
   },
   "file_extension": ".py",
   "mimetype": "text/x-python",
   "name": "python",
   "nbconvert_exporter": "python",
   "pygments_lexer": "ipython3",
   "version": "3.9.7"
  },
  "orig_nbformat": 2
 },
 "nbformat": 4,
 "nbformat_minor": 2
}